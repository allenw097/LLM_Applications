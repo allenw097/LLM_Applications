{
 "cells": [
  {
   "cell_type": "markdown",
   "id": "d29c9848",
   "metadata": {},
   "source": [
    "# Chat-GPT QA for Online Articles"
   ]
  },
  {
   "cell_type": "code",
   "execution_count": 1,
   "id": "67f09e22",
   "metadata": {},
   "outputs": [],
   "source": [
    "#!pip install PyQT5"
   ]
  },
  {
   "cell_type": "code",
   "execution_count": 7,
   "id": "7e1f111a",
   "metadata": {},
   "outputs": [],
   "source": [
    "#Import required packages\n",
    "import openai\n",
    "from langchain.llms import AzureOpenAI\n",
    "#This will help us create embeddings\n",
    "from langchain.embeddings.openai import OpenAIEmbeddings\n",
    "#Using ChromaDB as a vector store for the embeddings\n",
    "from langchain.vectorstores import Chroma\n",
    "from langchain.text_splitter import RecursiveCharacterTextSplitter, CharacterTextSplitter\n",
    "from langchain.chains import RetrievalQA\n",
    "from langchain.document_loaders import DirectoryLoader\n",
    "import os"
   ]
  },
  {
   "cell_type": "code",
   "execution_count": 8,
   "id": "c96627ba",
   "metadata": {},
   "outputs": [],
   "source": [
    "os.environ[\"OPENAI_API_KEY\"] = \"YOUR_API_KEY\""
   ]
  },
  {
   "cell_type": "code",
   "execution_count": 9,
   "id": "c9036dc9",
   "metadata": {},
   "outputs": [],
   "source": [
    "from langchain.document_loaders import WebBaseLoader\n",
    "\n",
    "loader = WebBaseLoader(\"https://www.apple.com/newsroom/2023/06/ios-17-makes-iphone-more-personal-and-intuitive/\")\n",
    "data = loader.load()"
   ]
  },
  {
   "cell_type": "code",
   "execution_count": 10,
   "id": "36f6deb2",
   "metadata": {},
   "outputs": [],
   "source": [
    "from langchain.text_splitter import RecursiveCharacterTextSplitter\n",
    "text_splitter = RecursiveCharacterTextSplitter(chunk_size = 500, chunk_overlap = 0)\n",
    "splits = text_splitter.split_documents(loader.load())"
   ]
  },
  {
   "cell_type": "code",
   "execution_count": 11,
   "id": "9125517a",
   "metadata": {},
   "outputs": [],
   "source": [
    "from langchain.vectorstores import Chroma\n",
    "from langchain.embeddings import OpenAIEmbeddings\n",
    "vectorstore = Chroma.from_documents(documents=splits,embedding=OpenAIEmbeddings())\n",
    "retriever = vectorstore.as_retriever()"
   ]
  },
  {
   "cell_type": "code",
   "execution_count": 12,
   "id": "f8e65ed0",
   "metadata": {},
   "outputs": [],
   "source": [
    "from langchain import hub\n",
    "rag_prompt = hub.pull(\"rlm/rag-prompt\")"
   ]
  },
  {
   "cell_type": "code",
   "execution_count": 13,
   "id": "03d980a9",
   "metadata": {},
   "outputs": [],
   "source": [
    "from langchain.chat_models import ChatOpenAI\n",
    "llm = ChatOpenAI(model_name=\"gpt-3.5-turbo\", temperature=0)"
   ]
  },
  {
   "cell_type": "code",
   "execution_count": 14,
   "id": "7cacfcaf",
   "metadata": {},
   "outputs": [],
   "source": [
    "from langchain.schema.runnable import RunnablePassthrough\n",
    "rag_chain = (\n",
    "    {\"context\": retriever, \"question\": RunnablePassthrough()} \n",
    "    | rag_prompt \n",
    "    | llm \n",
    ")"
   ]
  },
  {
   "cell_type": "code",
   "execution_count": 15,
   "id": "c24bf41e",
   "metadata": {
    "scrolled": true
   },
   "outputs": [
    {
     "data": {
      "text/plain": [
       "'The new features in iOS 17 include upgrades to the communications experience, easier sharing with AirDrop, more intelligent text input, and new experiences with Journal and StandBy. It also introduces Contact Posters, a new stickers experience, Live Voicemail, and more.'"
      ]
     },
     "execution_count": 15,
     "metadata": {},
     "output_type": "execute_result"
    }
   ],
   "source": [
    "rag_chain.invoke(\"Tell me the new features in iOS 17\").content"
   ]
  },
  {
   "cell_type": "code",
   "execution_count": 16,
   "id": "b3fa6997",
   "metadata": {},
   "outputs": [
    {
     "data": {
      "text/plain": [
       "'New messaging features in iOS 17 include an expandable menu for iMessage apps, powerful search filters, a catch-up arrow to indicate where the user left off, and the ability to reply inline by swiping. Additionally, there are new stickers and the ability to create Live Stickers from photos, with the option to add effects and a new drawer for easier access.'"
      ]
     },
     "execution_count": 16,
     "metadata": {},
     "output_type": "execute_result"
    }
   ],
   "source": [
    "rag_chain.invoke(\"What's new about messaging?\").content"
   ]
  },
  {
   "cell_type": "code",
   "execution_count": 17,
   "id": "b753c9b5",
   "metadata": {},
   "outputs": [
    {
     "data": {
      "text/plain": [
       "'The new sharing features in iOS 17 include AirDrop with new ways to share and NameDrop for easily sharing contact information by bringing iPhones or iPhones and Apple Watches together. Users can also share content or start SharePlay for listening to music, watching a movie, or playing a game in close proximity between iPhone devices.'"
      ]
     },
     "execution_count": 17,
     "metadata": {},
     "output_type": "execute_result"
    }
   ],
   "source": [
    "rag_chain.invoke(\"What are the new sharing features?\").content"
   ]
  },
  {
   "cell_type": "code",
   "execution_count": null,
   "id": "59e659f6",
   "metadata": {},
   "outputs": [],
   "source": []
  }
 ],
 "metadata": {
  "kernelspec": {
   "display_name": "Python 3 (ipykernel)",
   "language": "python",
   "name": "python3"
  },
  "language_info": {
   "codemirror_mode": {
    "name": "ipython",
    "version": 3
   },
   "file_extension": ".py",
   "mimetype": "text/x-python",
   "name": "python",
   "nbconvert_exporter": "python",
   "pygments_lexer": "ipython3",
   "version": "3.9.7"
  }
 },
 "nbformat": 4,
 "nbformat_minor": 5
}
